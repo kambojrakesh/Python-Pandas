{
 "cells": [
  {
   "cell_type": "markdown",
   "id": "fe97ed9b",
   "metadata": {},
   "source": [
    "# Python Pandas Data Structure"
   ]
  },
  {
   "cell_type": "markdown",
   "id": "62e5c3e1",
   "metadata": {},
   "source": [
    "The Pandas provides two data structures for processing the data, i.e., Series and DataFrame.The Pandas Series can be defined as a one-dimensional array that is capable of storing various data types.A Series cannot contain multiple columns"
   ]
  },
  {
   "cell_type": "code",
   "execution_count": 46,
   "id": "71a0d859",
   "metadata": {},
   "outputs": [
    {
     "name": "stdout",
     "output_type": "stream",
     "text": [
      "0    P\n",
      "1    a\n",
      "2    n\n",
      "3    d\n",
      "4    a\n",
      "5    s\n",
      "dtype: object\n"
     ]
    }
   ],
   "source": [
    "#Series\n",
    "\n",
    "import pandas as pd\n",
    "import numpy as np\n",
    "info = np.array(['P','a','n','d','a','s'])  \n",
    "a = pd.Series(info)\n",
    "print(a)"
   ]
  },
  {
   "cell_type": "code",
   "execution_count": 47,
   "id": "ad62bc5b",
   "metadata": {},
   "outputs": [
    {
     "name": "stdout",
     "output_type": "stream",
     "text": [
      "        0\n",
      "0  Python\n",
      "1  Pandas\n"
     ]
    }
   ],
   "source": [
    "#DataFrame\n",
    "import pandas as pd  \n",
    "# a list of strings  \n",
    "x = ['Python', 'Pandas']  \n",
    "  \n",
    "# Calling DataFrame constructor on list  \n",
    "df = pd.DataFrame(x)  \n",
    "print(df)  "
   ]
  },
  {
   "cell_type": "markdown",
   "id": "c38b6122",
   "metadata": {},
   "source": [
    "# Creating a Series using inputs:Array, Dict, Scalar value"
   ]
  },
  {
   "cell_type": "code",
   "execution_count": 48,
   "id": "4d62e9f3",
   "metadata": {},
   "outputs": [
    {
     "name": "stdout",
     "output_type": "stream",
     "text": [
      "0    4\n",
      "1    4\n",
      "2    4\n",
      "3    4\n",
      "dtype: int64\n"
     ]
    }
   ],
   "source": [
    "a = pd.Series(4, index = [0,1,2,3])\n",
    "print(a)"
   ]
  },
  {
   "cell_type": "markdown",
   "id": "e23c2398",
   "metadata": {},
   "source": [
    "# Series has the following parameter: - data, index, dtype, copy"
   ]
  },
  {
   "cell_type": "code",
   "execution_count": 49,
   "id": "c4f05e7f",
   "metadata": {},
   "outputs": [
    {
     "name": "stdout",
     "output_type": "stream",
     "text": [
      "Series([], dtype: float64)\n"
     ]
    },
    {
     "name": "stderr",
     "output_type": "stream",
     "text": [
      "<ipython-input-49-2da0348122c1>:1: DeprecationWarning: The default dtype for empty Series will be 'object' instead of 'float64' in a future version. Specify a dtype explicitly to silence this warning.\n",
      "  x = pd.Series()\n"
     ]
    }
   ],
   "source": [
    "x = pd.Series()  \n",
    "print (x)  "
   ]
  },
  {
   "cell_type": "markdown",
   "id": "5775f818",
   "metadata": {},
   "source": [
    "# Pandas Series map :-"
   ]
  },
  {
   "cell_type": "raw",
   "id": "de2bc3c2",
   "metadata": {},
   "source": [
    "The main task of map() is used to map the values from two series that have a common column.\n",
    "\n",
    "Series.map(arg, na_action=None)  "
   ]
  },
  {
   "cell_type": "code",
   "execution_count": 50,
   "id": "29c790b5",
   "metadata": {},
   "outputs": [
    {
     "data": {
      "text/plain": [
       "0    I like Java\n",
       "1       I like C\n",
       "2     I like C++\n",
       "3     I like nan\n",
       "dtype: object"
      ]
     },
     "execution_count": 50,
     "metadata": {},
     "output_type": "execute_result"
    }
   ],
   "source": [
    "a = pd.Series(['Java', 'C', 'C++' , np.nan])\n",
    "#a.map({'C': 'Core'})  \n",
    "a.map('I like {}'.format)  \n",
    "#a.map('I like {}'.format, na_action='ignore')  "
   ]
  },
  {
   "cell_type": "code",
   "execution_count": 51,
   "id": "3f157371",
   "metadata": {},
   "outputs": [
    {
     "data": {
      "text/plain": [
       "0.0"
      ]
     },
     "execution_count": 51,
     "metadata": {},
     "output_type": "execute_result"
    }
   ],
   "source": [
    "info = np.array([1,1,1,1,1,1])  \n",
    "a = pd.Series(info)\n",
    "a.std()"
   ]
  },
  {
   "cell_type": "code",
   "execution_count": 52,
   "id": "4bf9efd1",
   "metadata": {},
   "outputs": [
    {
     "data": {
      "text/plain": [
       "sub1_Marks    6.849574\n",
       "sub2_Marks    4.924429\n",
       "dtype: float64"
      ]
     },
     "execution_count": 52,
     "metadata": {},
     "output_type": "execute_result"
    }
   ],
   "source": [
    "#Pandas Series.std()\n",
    "info = {  \n",
    "    'Name':['Parker','Smith','John','William'],  \n",
    "   'sub1_Marks':[52,38,42,37],  \n",
    "   'sub2_Marks':[41,35,29,36]}   \n",
    "data = pd.DataFrame(info)  \n",
    "data  \n",
    "# standard deviation of the dataframe  \n",
    "data.std()  "
   ]
  },
  {
   "cell_type": "raw",
   "id": "1e051464",
   "metadata": {},
   "source": [
    "Series can only contain a single list with a particular index, whereas the DataFrame is a combination of more than one series that can analyze the data."
   ]
  },
  {
   "cell_type": "markdown",
   "id": "2b539f5b",
   "metadata": {},
   "source": [
    "# to_frame():-"
   ]
  },
  {
   "cell_type": "code",
   "execution_count": 53,
   "id": "baf29f5c",
   "metadata": {},
   "outputs": [
    {
     "name": "stdout",
     "output_type": "stream",
     "text": [
      "0    1\n",
      "1    2\n",
      "2    3\n",
      "3    4\n",
      "4    3\n",
      "5    1\n",
      "Name: vals, dtype: int64\n"
     ]
    }
   ],
   "source": [
    "a = pd.Series([1,2,3,4,3,1], name='vals')\n",
    "print(a)"
   ]
  },
  {
   "cell_type": "code",
   "execution_count": 54,
   "id": "9e05ca2e",
   "metadata": {},
   "outputs": [
    {
     "name": "stdout",
     "output_type": "stream",
     "text": [
      "   vals\n",
      "0     1\n",
      "1     2\n",
      "2     3\n",
      "3     4\n",
      "4     3\n",
      "5     1\n"
     ]
    }
   ],
   "source": [
    "print(a.to_frame())"
   ]
  },
  {
   "cell_type": "code",
   "execution_count": 55,
   "id": "86209be8",
   "metadata": {},
   "outputs": [
    {
     "name": "stdout",
     "output_type": "stream",
     "text": [
      "[1 2 3 4]\n"
     ]
    }
   ],
   "source": [
    "print(a.unique())"
   ]
  },
  {
   "cell_type": "code",
   "execution_count": 56,
   "id": "fd884d04",
   "metadata": {},
   "outputs": [
    {
     "data": {
      "text/plain": [
       "1    2\n",
       "3    2\n",
       "2    1\n",
       "4    1\n",
       "Name: vals, dtype: int64"
      ]
     },
     "execution_count": 56,
     "metadata": {},
     "output_type": "execute_result"
    }
   ],
   "source": [
    "a.value_counts(normalize=False, sort=True, ascending=False, bins=None, dropna=True)  "
   ]
  },
  {
   "cell_type": "code",
   "execution_count": 57,
   "id": "47003574",
   "metadata": {},
   "outputs": [
    {
     "data": {
      "text/plain": [
       "1    2\n",
       "3    2\n",
       "2    1\n",
       "4    1\n",
       "Name: vals, dtype: int64"
      ]
     },
     "execution_count": 57,
     "metadata": {},
     "output_type": "execute_result"
    }
   ],
   "source": [
    "a.value_counts() "
   ]
  },
  {
   "cell_type": "code",
   "execution_count": 58,
   "id": "e0e64849",
   "metadata": {},
   "outputs": [
    {
     "data": {
      "text/plain": [
       "1    2\n",
       "3    2\n",
       "2    1\n",
       "4    1\n",
       "Name: vals, dtype: int64"
      ]
     },
     "execution_count": 58,
     "metadata": {},
     "output_type": "execute_result"
    }
   ],
   "source": [
    "a.value_counts(sort=True) "
   ]
  },
  {
   "cell_type": "code",
   "execution_count": 59,
   "id": "c6775c0b",
   "metadata": {},
   "outputs": [
    {
     "data": {
      "text/plain": [
       "1    0.333333\n",
       "3    0.333333\n",
       "2    0.166667\n",
       "4    0.166667\n",
       "Name: vals, dtype: float64"
      ]
     },
     "execution_count": 59,
     "metadata": {},
     "output_type": "execute_result"
    }
   ],
   "source": [
    "a.value_counts(normalize=True)  "
   ]
  },
  {
   "cell_type": "markdown",
   "id": "0d1c1984",
   "metadata": {},
   "source": [
    "# Data Frame:-"
   ]
  },
  {
   "cell_type": "raw",
   "id": "25a470d1",
   "metadata": {},
   "source": [
    "Pandas DataFrame is a widely used data structure which works with a two-dimensional array with labeled axes (rows and columns"
   ]
  },
  {
   "cell_type": "code",
   "execution_count": 60,
   "id": "47c2c58f",
   "metadata": {},
   "outputs": [
    {
     "name": "stdout",
     "output_type": "stream",
     "text": [
      "        0\n",
      "0  Python\n",
      "1  Pandas\n"
     ]
    }
   ],
   "source": [
    "x = ['Python', 'Pandas']  \n",
    "print(pd.DataFrame(x))"
   ]
  },
  {
   "cell_type": "code",
   "execution_count": 61,
   "id": "573a26cb",
   "metadata": {},
   "outputs": [
    {
     "name": "stdout",
     "output_type": "stream",
     "text": [
      "   one  two\n",
      "a  1.0   11\n",
      "b  5.0    2\n",
      "c  3.0    3\n",
      "d  4.0    4\n",
      "e  5.0    5\n",
      "f  2.0    6\n",
      "g  NaN    7\n",
      "h  NaN    8\n"
     ]
    }
   ],
   "source": [
    "info = {'one' : pd.Series([1, 5, 3, 4, 5, 2], index=['a', 'b', 'c', 'd', 'e', 'f']),  \n",
    "   'two' : pd.Series([11, 2, 3, 4, 5, 6, 7, 8], index=['a', 'b', 'c', 'd', 'e', 'f', 'g', 'h'])}  \n",
    "  \n",
    "d1 = pd.DataFrame(info)  \n",
    "print (d1)  "
   ]
  },
  {
   "cell_type": "code",
   "execution_count": 62,
   "id": "50cce88e",
   "metadata": {},
   "outputs": [],
   "source": [
    "#d1.pop('one') "
   ]
  },
  {
   "cell_type": "code",
   "execution_count": 63,
   "id": "2a2e9148",
   "metadata": {},
   "outputs": [
    {
     "data": {
      "text/plain": [
       "one    5.0\n",
       "two    2.0\n",
       "Name: b, dtype: float64"
      ]
     },
     "execution_count": 63,
     "metadata": {},
     "output_type": "execute_result"
    }
   ],
   "source": [
    "d1.loc['b']"
   ]
  },
  {
   "cell_type": "code",
   "execution_count": 64,
   "id": "98e43b16",
   "metadata": {},
   "outputs": [
    {
     "data": {
      "text/html": [
       "<div>\n",
       "<style scoped>\n",
       "    .dataframe tbody tr th:only-of-type {\n",
       "        vertical-align: middle;\n",
       "    }\n",
       "\n",
       "    .dataframe tbody tr th {\n",
       "        vertical-align: top;\n",
       "    }\n",
       "\n",
       "    .dataframe thead th {\n",
       "        text-align: right;\n",
       "    }\n",
       "</style>\n",
       "<table border=\"1\" class=\"dataframe\">\n",
       "  <thead>\n",
       "    <tr style=\"text-align: right;\">\n",
       "      <th></th>\n",
       "      <th>one</th>\n",
       "      <th>two</th>\n",
       "    </tr>\n",
       "  </thead>\n",
       "  <tbody>\n",
       "    <tr>\n",
       "      <th>c</th>\n",
       "      <td>3.0</td>\n",
       "      <td>3</td>\n",
       "    </tr>\n",
       "    <tr>\n",
       "      <th>d</th>\n",
       "      <td>4.0</td>\n",
       "      <td>4</td>\n",
       "    </tr>\n",
       "    <tr>\n",
       "      <th>e</th>\n",
       "      <td>5.0</td>\n",
       "      <td>5</td>\n",
       "    </tr>\n",
       "  </tbody>\n",
       "</table>\n",
       "</div>"
      ],
      "text/plain": [
       "   one  two\n",
       "c  3.0    3\n",
       "d  4.0    4\n",
       "e  5.0    5"
      ]
     },
     "execution_count": 64,
     "metadata": {},
     "output_type": "execute_result"
    }
   ],
   "source": [
    "d1[2:5]"
   ]
  },
  {
   "cell_type": "code",
   "execution_count": 65,
   "id": "87aa654b",
   "metadata": {},
   "outputs": [
    {
     "name": "stdout",
     "output_type": "stream",
     "text": [
      "    x   y\n",
      "0   7   8\n",
      "1   9  10\n",
      "0  11  12\n",
      "1  13  14\n"
     ]
    }
   ],
   "source": [
    "d = pd.DataFrame([[7, 8], [9, 10]], columns = ['x','y'])  \n",
    "d2 = pd.DataFrame([[11, 12], [13, 14]], columns = ['x','y'])  \n",
    "d = d.append(d2)  \n",
    "print (d)  "
   ]
  },
  {
   "cell_type": "code",
   "execution_count": 66,
   "id": "355952b8",
   "metadata": {},
   "outputs": [
    {
     "data": {
      "text/html": [
       "<div>\n",
       "<style scoped>\n",
       "    .dataframe tbody tr th:only-of-type {\n",
       "        vertical-align: middle;\n",
       "    }\n",
       "\n",
       "    .dataframe tbody tr th {\n",
       "        vertical-align: top;\n",
       "    }\n",
       "\n",
       "    .dataframe thead th {\n",
       "        text-align: right;\n",
       "    }\n",
       "</style>\n",
       "<table border=\"1\" class=\"dataframe\">\n",
       "  <thead>\n",
       "    <tr style=\"text-align: right;\">\n",
       "      <th></th>\n",
       "      <th>x</th>\n",
       "      <th>y</th>\n",
       "    </tr>\n",
       "  </thead>\n",
       "  <tbody>\n",
       "    <tr>\n",
       "      <th>1</th>\n",
       "      <td>9</td>\n",
       "      <td>10</td>\n",
       "    </tr>\n",
       "    <tr>\n",
       "      <th>1</th>\n",
       "      <td>13</td>\n",
       "      <td>14</td>\n",
       "    </tr>\n",
       "  </tbody>\n",
       "</table>\n",
       "</div>"
      ],
      "text/plain": [
       "    x   y\n",
       "1   9  10\n",
       "1  13  14"
      ]
     },
     "execution_count": 66,
     "metadata": {},
     "output_type": "execute_result"
    }
   ],
   "source": [
    "d.drop(0)"
   ]
  },
  {
   "cell_type": "markdown",
   "id": "f032e409",
   "metadata": {},
   "source": [
    "# DataFrame.append()"
   ]
  },
  {
   "cell_type": "code",
   "execution_count": 71,
   "id": "968f3142",
   "metadata": {},
   "outputs": [
    {
     "data": {
      "text/html": [
       "<div>\n",
       "<style scoped>\n",
       "    .dataframe tbody tr th:only-of-type {\n",
       "        vertical-align: middle;\n",
       "    }\n",
       "\n",
       "    .dataframe tbody tr th {\n",
       "        vertical-align: top;\n",
       "    }\n",
       "\n",
       "    .dataframe thead th {\n",
       "        text-align: right;\n",
       "    }\n",
       "</style>\n",
       "<table border=\"1\" class=\"dataframe\">\n",
       "  <thead>\n",
       "    <tr style=\"text-align: right;\">\n",
       "      <th></th>\n",
       "      <th>x</th>\n",
       "      <th>y</th>\n",
       "      <th>z</th>\n",
       "    </tr>\n",
       "  </thead>\n",
       "  <tbody>\n",
       "    <tr>\n",
       "      <th>0</th>\n",
       "      <td>25</td>\n",
       "      <td>47</td>\n",
       "      <td>NaN</td>\n",
       "    </tr>\n",
       "    <tr>\n",
       "      <th>1</th>\n",
       "      <td>15</td>\n",
       "      <td>24</td>\n",
       "      <td>NaN</td>\n",
       "    </tr>\n",
       "    <tr>\n",
       "      <th>2</th>\n",
       "      <td>12</td>\n",
       "      <td>17</td>\n",
       "      <td>NaN</td>\n",
       "    </tr>\n",
       "    <tr>\n",
       "      <th>3</th>\n",
       "      <td>19</td>\n",
       "      <td>29</td>\n",
       "      <td>NaN</td>\n",
       "    </tr>\n",
       "    <tr>\n",
       "      <th>4</th>\n",
       "      <td>25</td>\n",
       "      <td>47</td>\n",
       "      <td>38.0</td>\n",
       "    </tr>\n",
       "    <tr>\n",
       "      <th>5</th>\n",
       "      <td>15</td>\n",
       "      <td>24</td>\n",
       "      <td>12.0</td>\n",
       "    </tr>\n",
       "    <tr>\n",
       "      <th>6</th>\n",
       "      <td>12</td>\n",
       "      <td>17</td>\n",
       "      <td>45.0</td>\n",
       "    </tr>\n",
       "  </tbody>\n",
       "</table>\n",
       "</div>"
      ],
      "text/plain": [
       "    x   y     z\n",
       "0  25  47   NaN\n",
       "1  15  24   NaN\n",
       "2  12  17   NaN\n",
       "3  19  29   NaN\n",
       "4  25  47  38.0\n",
       "5  15  24  12.0\n",
       "6  12  17  45.0"
      ]
     },
     "execution_count": 71,
     "metadata": {},
     "output_type": "execute_result"
    }
   ],
   "source": [
    "# Create first Dataframe using dictionary   \n",
    "info1 = pd.DataFrame({\"x\":[25,15,12,19],   \n",
    "                    \"y\":[47, 24, 17, 29]})     \n",
    "# Create second Dataframe using dictionary   \n",
    "info2 = pd.DataFrame({\"x\":[25, 15, 12],   \n",
    "                    \"y\":[47, 24, 17],    \n",
    "                    \"z\":[38, 12, 45]})   \n",
    "# append info2 at end in info1   \n",
    "info1.append(info2, ignore_index = True)   "
   ]
  },
  {
   "cell_type": "code",
   "execution_count": 73,
   "id": "af97b94b",
   "metadata": {},
   "outputs": [
    {
     "data": {
      "text/html": [
       "<div>\n",
       "<style scoped>\n",
       "    .dataframe tbody tr th:only-of-type {\n",
       "        vertical-align: middle;\n",
       "    }\n",
       "\n",
       "    .dataframe tbody tr th {\n",
       "        vertical-align: top;\n",
       "    }\n",
       "\n",
       "    .dataframe thead th {\n",
       "        text-align: right;\n",
       "    }\n",
       "</style>\n",
       "<table border=\"1\" class=\"dataframe\">\n",
       "  <thead>\n",
       "    <tr style=\"text-align: right;\">\n",
       "      <th></th>\n",
       "      <th>P</th>\n",
       "      <th>Q</th>\n",
       "    </tr>\n",
       "  </thead>\n",
       "  <tbody>\n",
       "    <tr>\n",
       "      <th>0</th>\n",
       "      <td>2</td>\n",
       "      <td>7</td>\n",
       "    </tr>\n",
       "    <tr>\n",
       "      <th>1</th>\n",
       "      <td>2</td>\n",
       "      <td>7</td>\n",
       "    </tr>\n",
       "    <tr>\n",
       "      <th>2</th>\n",
       "      <td>2</td>\n",
       "      <td>7</td>\n",
       "    </tr>\n",
       "    <tr>\n",
       "      <th>3</th>\n",
       "      <td>2</td>\n",
       "      <td>7</td>\n",
       "    </tr>\n",
       "  </tbody>\n",
       "</table>\n",
       "</div>"
      ],
      "text/plain": [
       "   P  Q\n",
       "0  2  7\n",
       "1  2  7\n",
       "2  2  7\n",
       "3  2  7"
      ]
     },
     "execution_count": 73,
     "metadata": {},
     "output_type": "execute_result"
    }
   ],
   "source": [
    "info = pd.DataFrame([[2, 7]] * 4, columns=['P', 'Q'])  \n",
    "info"
   ]
  },
  {
   "cell_type": "code",
   "execution_count": 74,
   "id": "c9db0c19",
   "metadata": {},
   "outputs": [
    {
     "data": {
      "text/html": [
       "<div>\n",
       "<style scoped>\n",
       "    .dataframe tbody tr th:only-of-type {\n",
       "        vertical-align: middle;\n",
       "    }\n",
       "\n",
       "    .dataframe tbody tr th {\n",
       "        vertical-align: top;\n",
       "    }\n",
       "\n",
       "    .dataframe thead th {\n",
       "        text-align: right;\n",
       "    }\n",
       "</style>\n",
       "<table border=\"1\" class=\"dataframe\">\n",
       "  <thead>\n",
       "    <tr style=\"text-align: right;\">\n",
       "      <th></th>\n",
       "      <th>P</th>\n",
       "      <th>Q</th>\n",
       "    </tr>\n",
       "  </thead>\n",
       "  <tbody>\n",
       "    <tr>\n",
       "      <th>0</th>\n",
       "      <td>1.414214</td>\n",
       "      <td>2.645751</td>\n",
       "    </tr>\n",
       "    <tr>\n",
       "      <th>1</th>\n",
       "      <td>1.414214</td>\n",
       "      <td>2.645751</td>\n",
       "    </tr>\n",
       "    <tr>\n",
       "      <th>2</th>\n",
       "      <td>1.414214</td>\n",
       "      <td>2.645751</td>\n",
       "    </tr>\n",
       "    <tr>\n",
       "      <th>3</th>\n",
       "      <td>1.414214</td>\n",
       "      <td>2.645751</td>\n",
       "    </tr>\n",
       "  </tbody>\n",
       "</table>\n",
       "</div>"
      ],
      "text/plain": [
       "          P         Q\n",
       "0  1.414214  2.645751\n",
       "1  1.414214  2.645751\n",
       "2  1.414214  2.645751\n",
       "3  1.414214  2.645751"
      ]
     },
     "execution_count": 74,
     "metadata": {},
     "output_type": "execute_result"
    }
   ],
   "source": [
    "info.apply(np.sqrt) "
   ]
  },
  {
   "cell_type": "markdown",
   "id": "772faa73",
   "metadata": {},
   "source": [
    "# DataFrame.apply()"
   ]
  },
  {
   "cell_type": "code",
   "execution_count": 76,
   "id": "4347c18e",
   "metadata": {},
   "outputs": [
    {
     "data": {
      "text/plain": [
       "P     8\n",
       "Q    28\n",
       "dtype: int64"
      ]
     },
     "execution_count": 76,
     "metadata": {},
     "output_type": "execute_result"
    }
   ],
   "source": [
    "info.apply(np.sum, axis=0)  "
   ]
  },
  {
   "cell_type": "code",
   "execution_count": 77,
   "id": "9edfc15b",
   "metadata": {},
   "outputs": [
    {
     "data": {
      "text/plain": [
       "0    [1, 2]\n",
       "1    [1, 2]\n",
       "2    [1, 2]\n",
       "3    [1, 2]\n",
       "dtype: object"
      ]
     },
     "execution_count": 77,
     "metadata": {},
     "output_type": "execute_result"
    }
   ],
   "source": [
    "info.apply(lambda x: [1, 2], axis=1)  "
   ]
  },
  {
   "cell_type": "code",
   "execution_count": 78,
   "id": "52a9510a",
   "metadata": {},
   "outputs": [
    {
     "data": {
      "text/html": [
       "<div>\n",
       "<style scoped>\n",
       "    .dataframe tbody tr th:only-of-type {\n",
       "        vertical-align: middle;\n",
       "    }\n",
       "\n",
       "    .dataframe tbody tr th {\n",
       "        vertical-align: top;\n",
       "    }\n",
       "\n",
       "    .dataframe thead th {\n",
       "        text-align: right;\n",
       "    }\n",
       "</style>\n",
       "<table border=\"1\" class=\"dataframe\">\n",
       "  <thead>\n",
       "    <tr style=\"text-align: right;\">\n",
       "      <th></th>\n",
       "      <th>0</th>\n",
       "      <th>1</th>\n",
       "    </tr>\n",
       "  </thead>\n",
       "  <tbody>\n",
       "    <tr>\n",
       "      <th>0</th>\n",
       "      <td>1</td>\n",
       "      <td>2</td>\n",
       "    </tr>\n",
       "    <tr>\n",
       "      <th>1</th>\n",
       "      <td>1</td>\n",
       "      <td>2</td>\n",
       "    </tr>\n",
       "    <tr>\n",
       "      <th>2</th>\n",
       "      <td>1</td>\n",
       "      <td>2</td>\n",
       "    </tr>\n",
       "    <tr>\n",
       "      <th>3</th>\n",
       "      <td>1</td>\n",
       "      <td>2</td>\n",
       "    </tr>\n",
       "  </tbody>\n",
       "</table>\n",
       "</div>"
      ],
      "text/plain": [
       "   0  1\n",
       "0  1  2\n",
       "1  1  2\n",
       "2  1  2\n",
       "3  1  2"
      ]
     },
     "execution_count": 78,
     "metadata": {},
     "output_type": "execute_result"
    }
   ],
   "source": [
    "info.apply(lambda x: [1, 2], axis=1, result_type='expand')  "
   ]
  },
  {
   "cell_type": "code",
   "execution_count": 79,
   "id": "744dfeac",
   "metadata": {},
   "outputs": [
    {
     "data": {
      "text/html": [
       "<div>\n",
       "<style scoped>\n",
       "    .dataframe tbody tr th:only-of-type {\n",
       "        vertical-align: middle;\n",
       "    }\n",
       "\n",
       "    .dataframe tbody tr th {\n",
       "        vertical-align: top;\n",
       "    }\n",
       "\n",
       "    .dataframe thead th {\n",
       "        text-align: right;\n",
       "    }\n",
       "</style>\n",
       "<table border=\"1\" class=\"dataframe\">\n",
       "  <thead>\n",
       "    <tr style=\"text-align: right;\">\n",
       "      <th></th>\n",
       "      <th>foo</th>\n",
       "      <th>bar</th>\n",
       "    </tr>\n",
       "  </thead>\n",
       "  <tbody>\n",
       "    <tr>\n",
       "      <th>0</th>\n",
       "      <td>1</td>\n",
       "      <td>2</td>\n",
       "    </tr>\n",
       "    <tr>\n",
       "      <th>1</th>\n",
       "      <td>1</td>\n",
       "      <td>2</td>\n",
       "    </tr>\n",
       "    <tr>\n",
       "      <th>2</th>\n",
       "      <td>1</td>\n",
       "      <td>2</td>\n",
       "    </tr>\n",
       "    <tr>\n",
       "      <th>3</th>\n",
       "      <td>1</td>\n",
       "      <td>2</td>\n",
       "    </tr>\n",
       "  </tbody>\n",
       "</table>\n",
       "</div>"
      ],
      "text/plain": [
       "   foo  bar\n",
       "0    1    2\n",
       "1    1    2\n",
       "2    1    2\n",
       "3    1    2"
      ]
     },
     "execution_count": 79,
     "metadata": {},
     "output_type": "execute_result"
    }
   ],
   "source": [
    "info.apply(lambda x: pd.Series([1, 2], index=['foo', 'bar']), axis=1)  "
   ]
  },
  {
   "cell_type": "code",
   "execution_count": 80,
   "id": "6af8c622",
   "metadata": {},
   "outputs": [
    {
     "data": {
      "text/html": [
       "<div>\n",
       "<style scoped>\n",
       "    .dataframe tbody tr th:only-of-type {\n",
       "        vertical-align: middle;\n",
       "    }\n",
       "\n",
       "    .dataframe tbody tr th {\n",
       "        vertical-align: top;\n",
       "    }\n",
       "\n",
       "    .dataframe thead th {\n",
       "        text-align: right;\n",
       "    }\n",
       "</style>\n",
       "<table border=\"1\" class=\"dataframe\">\n",
       "  <thead>\n",
       "    <tr style=\"text-align: right;\">\n",
       "      <th></th>\n",
       "      <th>P</th>\n",
       "      <th>Q</th>\n",
       "    </tr>\n",
       "  </thead>\n",
       "  <tbody>\n",
       "    <tr>\n",
       "      <th>0</th>\n",
       "      <td>1</td>\n",
       "      <td>2</td>\n",
       "    </tr>\n",
       "    <tr>\n",
       "      <th>1</th>\n",
       "      <td>1</td>\n",
       "      <td>2</td>\n",
       "    </tr>\n",
       "    <tr>\n",
       "      <th>2</th>\n",
       "      <td>1</td>\n",
       "      <td>2</td>\n",
       "    </tr>\n",
       "    <tr>\n",
       "      <th>3</th>\n",
       "      <td>1</td>\n",
       "      <td>2</td>\n",
       "    </tr>\n",
       "  </tbody>\n",
       "</table>\n",
       "</div>"
      ],
      "text/plain": [
       "   P  Q\n",
       "0  1  2\n",
       "1  1  2\n",
       "2  1  2\n",
       "3  1  2"
      ]
     },
     "execution_count": 80,
     "metadata": {},
     "output_type": "execute_result"
    }
   ],
   "source": [
    "info.apply(lambda x: [1, 2], axis=1, result_type='broadcast')  "
   ]
  },
  {
   "cell_type": "code",
   "execution_count": 81,
   "id": "484da766",
   "metadata": {},
   "outputs": [
    {
     "data": {
      "text/html": [
       "<div>\n",
       "<style scoped>\n",
       "    .dataframe tbody tr th:only-of-type {\n",
       "        vertical-align: middle;\n",
       "    }\n",
       "\n",
       "    .dataframe tbody tr th {\n",
       "        vertical-align: top;\n",
       "    }\n",
       "\n",
       "    .dataframe thead th {\n",
       "        text-align: right;\n",
       "    }\n",
       "</style>\n",
       "<table border=\"1\" class=\"dataframe\">\n",
       "  <thead>\n",
       "    <tr style=\"text-align: right;\">\n",
       "      <th></th>\n",
       "      <th>X</th>\n",
       "      <th>Y</th>\n",
       "      <th>Z</th>\n",
       "    </tr>\n",
       "  </thead>\n",
       "  <tbody>\n",
       "    <tr>\n",
       "      <th>0</th>\n",
       "      <td>1.0</td>\n",
       "      <td>5.0</td>\n",
       "      <td>7.0</td>\n",
       "    </tr>\n",
       "    <tr>\n",
       "      <th>1</th>\n",
       "      <td>10.0</td>\n",
       "      <td>12.0</td>\n",
       "      <td>15.0</td>\n",
       "    </tr>\n",
       "    <tr>\n",
       "      <th>2</th>\n",
       "      <td>18.0</td>\n",
       "      <td>21.0</td>\n",
       "      <td>24.0</td>\n",
       "    </tr>\n",
       "    <tr>\n",
       "      <th>3</th>\n",
       "      <td>NaN</td>\n",
       "      <td>NaN</td>\n",
       "      <td>NaN</td>\n",
       "    </tr>\n",
       "  </tbody>\n",
       "</table>\n",
       "</div>"
      ],
      "text/plain": [
       "      X     Y     Z\n",
       "0   1.0   5.0   7.0\n",
       "1  10.0  12.0  15.0\n",
       "2  18.0  21.0  24.0\n",
       "3   NaN   NaN   NaN"
      ]
     },
     "execution_count": 81,
     "metadata": {},
     "output_type": "execute_result"
    }
   ],
   "source": [
    "info=pd.DataFrame([[1,5,7],[10,12,15],[18,21,24],[np.nan,np.nan,np.nan]],columns=['X','Y','Z'])  \n",
    "info"
   ]
  },
  {
   "cell_type": "code",
   "execution_count": 82,
   "id": "0ba0576a",
   "metadata": {},
   "outputs": [
    {
     "data": {
      "text/html": [
       "<div>\n",
       "<style scoped>\n",
       "    .dataframe tbody tr th:only-of-type {\n",
       "        vertical-align: middle;\n",
       "    }\n",
       "\n",
       "    .dataframe tbody tr th {\n",
       "        vertical-align: top;\n",
       "    }\n",
       "\n",
       "    .dataframe thead th {\n",
       "        text-align: right;\n",
       "    }\n",
       "</style>\n",
       "<table border=\"1\" class=\"dataframe\">\n",
       "  <thead>\n",
       "    <tr style=\"text-align: right;\">\n",
       "      <th></th>\n",
       "      <th>X</th>\n",
       "      <th>Y</th>\n",
       "      <th>Z</th>\n",
       "    </tr>\n",
       "  </thead>\n",
       "  <tbody>\n",
       "    <tr>\n",
       "      <th>sum</th>\n",
       "      <td>29.0</td>\n",
       "      <td>38.0</td>\n",
       "      <td>46.0</td>\n",
       "    </tr>\n",
       "    <tr>\n",
       "      <th>min</th>\n",
       "      <td>1.0</td>\n",
       "      <td>5.0</td>\n",
       "      <td>7.0</td>\n",
       "    </tr>\n",
       "  </tbody>\n",
       "</table>\n",
       "</div>"
      ],
      "text/plain": [
       "        X     Y     Z\n",
       "sum  29.0  38.0  46.0\n",
       "min   1.0   5.0   7.0"
      ]
     },
     "execution_count": 82,
     "metadata": {},
     "output_type": "execute_result"
    }
   ],
   "source": [
    "info.agg(['sum','min'])  "
   ]
  },
  {
   "cell_type": "markdown",
   "id": "f0c33b08",
   "metadata": {},
   "source": [
    "# DataFrame.assign()"
   ]
  },
  {
   "cell_type": "code",
   "execution_count": 83,
   "id": "67723bce",
   "metadata": {},
   "outputs": [
    {
     "data": {
      "text/html": [
       "<div>\n",
       "<style scoped>\n",
       "    .dataframe tbody tr th:only-of-type {\n",
       "        vertical-align: middle;\n",
       "    }\n",
       "\n",
       "    .dataframe tbody tr th {\n",
       "        vertical-align: top;\n",
       "    }\n",
       "\n",
       "    .dataframe thead th {\n",
       "        text-align: right;\n",
       "    }\n",
       "</style>\n",
       "<table border=\"1\" class=\"dataframe\">\n",
       "  <thead>\n",
       "    <tr style=\"text-align: right;\">\n",
       "      <th></th>\n",
       "      <th>ID</th>\n",
       "      <th>Name</th>\n",
       "    </tr>\n",
       "  </thead>\n",
       "  <tbody>\n",
       "    <tr>\n",
       "      <th>0</th>\n",
       "      <td>101</td>\n",
       "      <td>Smith</td>\n",
       "    </tr>\n",
       "    <tr>\n",
       "      <th>1</th>\n",
       "      <td>102</td>\n",
       "      <td>Parker</td>\n",
       "    </tr>\n",
       "    <tr>\n",
       "      <th>2</th>\n",
       "      <td>103</td>\n",
       "      <td>John</td>\n",
       "    </tr>\n",
       "  </tbody>\n",
       "</table>\n",
       "</div>"
      ],
      "text/plain": [
       "    ID    Name\n",
       "0  101   Smith\n",
       "1  102  Parker\n",
       "2  103    John"
      ]
     },
     "execution_count": 83,
     "metadata": {},
     "output_type": "execute_result"
    }
   ],
   "source": [
    "info = pd.DataFrame()  \n",
    "  \n",
    "# Create a column  \n",
    "info['ID'] = [101, 102, 103]  \n",
    "  \n",
    "# View the dataframe  \n",
    "info  \n",
    "# Assign a new column to dataframe called 'age'   \n",
    "info.assign(Name = ['Smith', 'Parker', 'John'])  "
   ]
  },
  {
   "cell_type": "code",
   "execution_count": null,
   "id": "4a1d6c92",
   "metadata": {},
   "outputs": [],
   "source": []
  }
 ],
 "metadata": {
  "kernelspec": {
   "display_name": "Python 3",
   "language": "python",
   "name": "python3"
  },
  "language_info": {
   "codemirror_mode": {
    "name": "ipython",
    "version": 3
   },
   "file_extension": ".py",
   "mimetype": "text/x-python",
   "name": "python",
   "nbconvert_exporter": "python",
   "pygments_lexer": "ipython3",
   "version": "3.8.8"
  }
 },
 "nbformat": 4,
 "nbformat_minor": 5
}
