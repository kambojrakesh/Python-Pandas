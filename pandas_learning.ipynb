{
 "cells": [
  {
   "cell_type": "markdown",
   "id": "fe97ed9b",
   "metadata": {},
   "source": [
    "# Python Pandas Data Structure"
   ]
  },
  {
   "cell_type": "markdown",
   "id": "62e5c3e1",
   "metadata": {},
   "source": [
    "The Pandas provides two data structures for processing the data, i.e., Series and DataFrame.The Pandas Series can be defined as a one-dimensional array that is capable of storing various data types.A Series cannot contain multiple columns"
   ]
  },
  {
   "cell_type": "code",
   "execution_count": 6,
   "id": "71a0d859",
   "metadata": {},
   "outputs": [
    {
     "name": "stdout",
     "output_type": "stream",
     "text": [
      "0    P\n",
      "1    a\n",
      "2    n\n",
      "3    d\n",
      "4    a\n",
      "5    s\n",
      "dtype: object\n"
     ]
    }
   ],
   "source": [
    "#Series\n",
    "\n",
    "import pandas as pd\n",
    "import numpy as np\n",
    "info = np.array(['P','a','n','d','a','s'])  \n",
    "a = pd.Series(info)\n",
    "print(a)"
   ]
  },
  {
   "cell_type": "code",
   "execution_count": 12,
   "id": "ad62bc5b",
   "metadata": {},
   "outputs": [
    {
     "name": "stdout",
     "output_type": "stream",
     "text": [
      "        0\n",
      "0  Python\n",
      "1  Pandas\n"
     ]
    }
   ],
   "source": [
    "#DataFrame\n",
    "import pandas as pd  \n",
    "# a list of strings  \n",
    "x = ['Python', 'Pandas']  \n",
    "  \n",
    "# Calling DataFrame constructor on list  \n",
    "df = pd.DataFrame(x)  \n",
    "print(df)  "
   ]
  },
  {
   "cell_type": "markdown",
   "id": "c38b6122",
   "metadata": {},
   "source": [
    "# Creating a Series using inputs:Array, Dict, Scalar value"
   ]
  },
  {
   "cell_type": "code",
   "execution_count": 9,
   "id": "4d62e9f3",
   "metadata": {},
   "outputs": [
    {
     "name": "stdout",
     "output_type": "stream",
     "text": [
      "0    4\n",
      "1    4\n",
      "2    4\n",
      "3    4\n",
      "dtype: int64\n"
     ]
    }
   ],
   "source": [
    "a = pd.Series(4, index = [0,1,2,3])\n",
    "print(a)"
   ]
  },
  {
   "cell_type": "markdown",
   "id": "e23c2398",
   "metadata": {},
   "source": [
    "# Series has the following parameter: - data, index, dtype, copy"
   ]
  },
  {
   "cell_type": "code",
   "execution_count": 11,
   "id": "c4f05e7f",
   "metadata": {},
   "outputs": [
    {
     "name": "stdout",
     "output_type": "stream",
     "text": [
      "Series([], dtype: float64)\n"
     ]
    },
    {
     "name": "stderr",
     "output_type": "stream",
     "text": [
      "<ipython-input-11-2da0348122c1>:1: DeprecationWarning: The default dtype for empty Series will be 'object' instead of 'float64' in a future version. Specify a dtype explicitly to silence this warning.\n",
      "  x = pd.Series()\n"
     ]
    }
   ],
   "source": [
    "x = pd.Series()  \n",
    "print (x)  "
   ]
  },
  {
   "cell_type": "markdown",
   "id": "5775f818",
   "metadata": {},
   "source": [
    "# Pandas Series map :-"
   ]
  },
  {
   "cell_type": "raw",
   "id": "de2bc3c2",
   "metadata": {},
   "source": [
    "The main task of map() is used to map the values from two series that have a common column.\n",
    "\n",
    "Series.map(arg, na_action=None)  "
   ]
  },
  {
   "cell_type": "code",
   "execution_count": 23,
   "id": "29c790b5",
   "metadata": {},
   "outputs": [
    {
     "data": {
      "text/plain": [
       "0    I like Java\n",
       "1       I like C\n",
       "2     I like C++\n",
       "3     I like nan\n",
       "dtype: object"
      ]
     },
     "execution_count": 23,
     "metadata": {},
     "output_type": "execute_result"
    }
   ],
   "source": [
    "a = pd.Series(['Java', 'C', 'C++' , np.nan])\n",
    "#a.map({'C': 'Core'})  \n",
    "a.map('I like {}'.format)  \n",
    "#a.map('I like {}'.format, na_action='ignore')  "
   ]
  },
  {
   "cell_type": "code",
   "execution_count": 25,
   "id": "3f157371",
   "metadata": {},
   "outputs": [
    {
     "data": {
      "text/plain": [
       "0.0"
      ]
     },
     "execution_count": 25,
     "metadata": {},
     "output_type": "execute_result"
    }
   ],
   "source": [
    "info = np.array([1,1,1,1,1,1])  \n",
    "a = pd.Series(info)\n",
    "a.std()"
   ]
  },
  {
   "cell_type": "code",
   "execution_count": 26,
   "id": "4bf9efd1",
   "metadata": {},
   "outputs": [
    {
     "data": {
      "text/plain": [
       "sub1_Marks    6.849574\n",
       "sub2_Marks    4.924429\n",
       "dtype: float64"
      ]
     },
     "execution_count": 26,
     "metadata": {},
     "output_type": "execute_result"
    }
   ],
   "source": [
    "#Pandas Series.std()\n",
    "info = {  \n",
    "    'Name':['Parker','Smith','John','William'],  \n",
    "   'sub1_Marks':[52,38,42,37],  \n",
    "   'sub2_Marks':[41,35,29,36]}   \n",
    "data = pd.DataFrame(info)  \n",
    "data  \n",
    "# standard deviation of the dataframe  \n",
    "data.std()  "
   ]
  },
  {
   "cell_type": "raw",
   "id": "1e051464",
   "metadata": {},
   "source": [
    "Series can only contain a single list with a particular index, whereas the DataFrame is a combination of more than one series that can analyze the data."
   ]
  },
  {
   "cell_type": "markdown",
   "id": "2b539f5b",
   "metadata": {},
   "source": [
    "# to_frame():-"
   ]
  },
  {
   "cell_type": "code",
   "execution_count": 31,
   "id": "baf29f5c",
   "metadata": {},
   "outputs": [
    {
     "name": "stdout",
     "output_type": "stream",
     "text": [
      "0    1\n",
      "1    2\n",
      "2    3\n",
      "3    4\n",
      "4    3\n",
      "5    1\n",
      "Name: vals, dtype: int64\n"
     ]
    }
   ],
   "source": [
    "a = pd.Series([1,2,3,4,3,1], name='vals')\n",
    "print(a)"
   ]
  },
  {
   "cell_type": "code",
   "execution_count": 32,
   "id": "9e05ca2e",
   "metadata": {},
   "outputs": [
    {
     "name": "stdout",
     "output_type": "stream",
     "text": [
      "   vals\n",
      "0     1\n",
      "1     2\n",
      "2     3\n",
      "3     4\n",
      "4     3\n",
      "5     1\n"
     ]
    }
   ],
   "source": [
    "print(a.to_frame())"
   ]
  },
  {
   "cell_type": "code",
   "execution_count": 33,
   "id": "86209be8",
   "metadata": {},
   "outputs": [
    {
     "name": "stdout",
     "output_type": "stream",
     "text": [
      "[1 2 3 4]\n"
     ]
    }
   ],
   "source": [
    "print(a.unique())"
   ]
  },
  {
   "cell_type": "code",
   "execution_count": null,
   "id": "fd884d04",
   "metadata": {},
   "outputs": [],
   "source": [
    "Series.value_counts(normalize=False, sort=True, ascending=False, bins=None, dropna=True)  "
   ]
  },
  {
   "cell_type": "code",
   "execution_count": 34,
   "id": "47003574",
   "metadata": {},
   "outputs": [
    {
     "data": {
      "text/plain": [
       "1    2\n",
       "3    2\n",
       "2    1\n",
       "4    1\n",
       "Name: vals, dtype: int64"
      ]
     },
     "execution_count": 34,
     "metadata": {},
     "output_type": "execute_result"
    }
   ],
   "source": [
    "a.value_counts() "
   ]
  },
  {
   "cell_type": "code",
   "execution_count": 37,
   "id": "e0e64849",
   "metadata": {},
   "outputs": [
    {
     "data": {
      "text/plain": [
       "1    2\n",
       "3    2\n",
       "2    1\n",
       "4    1\n",
       "Name: vals, dtype: int64"
      ]
     },
     "execution_count": 37,
     "metadata": {},
     "output_type": "execute_result"
    }
   ],
   "source": [
    "a.value_counts(sort=True) "
   ]
  },
  {
   "cell_type": "code",
   "execution_count": 38,
   "id": "c6775c0b",
   "metadata": {},
   "outputs": [
    {
     "data": {
      "text/plain": [
       "1    0.333333\n",
       "3    0.333333\n",
       "2    0.166667\n",
       "4    0.166667\n",
       "Name: vals, dtype: float64"
      ]
     },
     "execution_count": 38,
     "metadata": {},
     "output_type": "execute_result"
    }
   ],
   "source": [
    "a.value_counts(normalize=True)  "
   ]
  },
  {
   "cell_type": "code",
   "execution_count": null,
   "id": "c9eccd65",
   "metadata": {},
   "outputs": [],
   "source": []
  }
 ],
 "metadata": {
  "kernelspec": {
   "display_name": "Python 3",
   "language": "python",
   "name": "python3"
  },
  "language_info": {
   "codemirror_mode": {
    "name": "ipython",
    "version": 3
   },
   "file_extension": ".py",
   "mimetype": "text/x-python",
   "name": "python",
   "nbconvert_exporter": "python",
   "pygments_lexer": "ipython3",
   "version": "3.8.8"
  }
 },
 "nbformat": 4,
 "nbformat_minor": 5
}
